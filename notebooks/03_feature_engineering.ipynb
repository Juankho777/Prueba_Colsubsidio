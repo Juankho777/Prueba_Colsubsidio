{
 "cells": [
  {
   "cell_type": "code",
   "execution_count": 80,
   "id": "dd64451c",
   "metadata": {},
   "outputs": [
    {
     "name": "stdout",
     "output_type": "stream",
     "text": [
      "Train: (50001, 33)\n",
      "Test: (5001, 32)\n"
     ]
    }
   ],
   "source": [
    "# Feature Engineering - Modelo de Fuga Colsubsidio\n",
    "# ====================================================\n",
    "# \n",
    "# Objetivo: Crear variables derivadas con lógica de negocio crediticio\n",
    "# - Variables de utilización y comportamiento financiero\n",
    "# - Índices de stress y actividad del cliente\n",
    "# - Variables específicas de beneficios Colsubsidio\n",
    "# - Validación de calidad de features creadas\n",
    "\n",
    "# =============================================================================\n",
    "# CONFIGURACIÓN INICIAL\n",
    "# =============================================================================\n",
    "\n",
    "import pandas as pd\n",
    "import numpy as np\n",
    "\n",
    "# %%\n",
    "# Cargar datos preparados\n",
    "train = pd.read_csv('data/processed/train_prepared.csv')\n",
    "test = pd.read_csv('data/processed/test_prepared.csv')\n",
    "\n",
    "print(f\"Train: {train.shape}\")\n",
    "print(f\"Test: {test.shape}\")"
   ]
  },
  {
   "cell_type": "code",
   "execution_count": 81,
   "id": "0d9f6ae3",
   "metadata": {},
   "outputs": [
    {
     "name": "stdout",
     "output_type": "stream",
     "text": [
      "Features utilización creadas\n"
     ]
    }
   ],
   "source": [
    "# =============================================================================\n",
    "# CREACIÓN DE FEATURES DE UTILIZACIÓN\n",
    "# =============================================================================\n",
    "def crear_features_utilizacion(df):\n",
    "   df_new = df.copy()\n",
    "   \n",
    "   # Utilización del cupo\n",
    "   df_new['utilizacion_cupo'] = df_new['Saldo'] / (df_new['Limite.Cupo'] + 1)\n",
    "   \n",
    "   # Disponibilidad restante\n",
    "   df_new['disponibilidad_restante'] = df_new['Limite.Cupo'] - df_new['Saldo']\n",
    "   \n",
    "   # Ratio avances\n",
    "   df_new['ratio_avances'] = df_new['Disponible.Avances'] / (df_new['Limite.Cupo'] + 1)\n",
    "   \n",
    "   return df_new\n",
    "\n",
    "train = crear_features_utilizacion(train)\n",
    "test = crear_features_utilizacion(test)\n",
    "\n",
    "print(\"Features utilización creadas\")\n",
    "\n",
    "# %%"
   ]
  },
  {
   "cell_type": "code",
   "execution_count": 82,
   "id": "ec61fa4c",
   "metadata": {},
   "outputs": [
    {
     "name": "stdout",
     "output_type": "stream",
     "text": [
      "Features pagos creadas\n"
     ]
    }
   ],
   "source": [
    "# =============================================================================\n",
    "# CREACIÓN DE FEATURES DE PAGOS\n",
    "# =============================================================================\n",
    "def crear_features_pagos(df):\n",
    "   df_new = df.copy()\n",
    "   \n",
    "   # Capacidad de pago\n",
    "   df_new['capacidad_pago'] = df_new['Pago.del.Mes'] / (df_new['Saldo'] + 1)\n",
    "   \n",
    "   # Cumplimiento mínimo\n",
    "   df_new['cumplimiento_minimo'] = df_new['Pago.del.Mes'] / (df_new['Pago.Minimo'] + 1)\n",
    "   \n",
    "   # Tendencia pagos\n",
    "   df_new['tendencia_pagos'] = (df_new['Pago.del.Mes'] - df_new['Pagos.Mes.Ant']) / (df_new['Pagos.Mes.Ant'] + 1)\n",
    "   \n",
    "   return df_new\n",
    "\n",
    "train = crear_features_pagos(train)\n",
    "test = crear_features_pagos(test)\n",
    "\n",
    "print(\"Features pagos creadas\")\n",
    "\n",
    "# %%"
   ]
  },
  {
   "cell_type": "code",
   "execution_count": 83,
   "id": "bc531d5d",
   "metadata": {},
   "outputs": [
    {
     "name": "stdout",
     "output_type": "stream",
     "text": [
      "Features actividad creadas\n"
     ]
    }
   ],
   "source": [
    "# =============================================================================\n",
    "#  CREACIÓN DE FEATURES DE ACTIVIDAD\n",
    "# =============================================================================\n",
    "def crear_features_actividad(df):\n",
    "   df_new = df.copy()\n",
    "   \n",
    "   # Cliente activo\n",
    "   df_new['cliente_activo'] = (df_new['Vtas.Mes.Ant'] > 0).astype(int)\n",
    "   \n",
    "   # Variación saldo\n",
    "   df_new['variacion_saldo'] = (df_new['Saldo'] - df_new['Saldos.Mes.Ant']) / (df_new['Saldos.Mes.Ant'] + 1)\n",
    "   \n",
    "   # Frecuencia uso (proxy)\n",
    "   df_new['frecuencia_uso'] = ((df_new['Vtas.Mes.Ant'] > 0) & (df_new['Pago.del.Mes'] > 0)).astype(int)\n",
    "   \n",
    "   return df_new\n",
    "\n",
    "train = crear_features_actividad(train)\n",
    "test = crear_features_actividad(test)\n",
    "\n",
    "print(\"Features actividad creadas\")\n"
   ]
  },
  {
   "cell_type": "code",
   "execution_count": 84,
   "id": "98f39b6d",
   "metadata": {},
   "outputs": [
    {
     "name": "stdout",
     "output_type": "stream",
     "text": [
      "Features alertas creadas\n"
     ]
    }
   ],
   "source": [
    "# =============================================================================\n",
    "# CREACIÓN DE FEATURES DE ALERTAS\n",
    "# =============================================================================\n",
    "def crear_features_alertas(df):\n",
    "   df_new = df.copy()\n",
    "   \n",
    "   # Mora inicial (1-30 días)\n",
    "   df_new['mora_inicial'] = ((df_new['Edad.Mora'] > 0) & (df_new['Edad.Mora'] <= 30)).astype(int)\n",
    "   \n",
    "   # Cliente con mora\n",
    "   df_new['tiene_mora'] = (df_new['Edad.Mora'] > 0).astype(int)\n",
    "   \n",
    "   # Patrón reducción (menos ventas)\n",
    "   df_new['patron_reduccion'] = (df_new['Vtas.Mes.Ant'] < df_new['Saldos.Mes.Ant'] * 0.1).astype(int)\n",
    "   \n",
    "   return df_new\n",
    "\n",
    "train = crear_features_alertas(train)\n",
    "test = crear_features_alertas(test)\n",
    "\n",
    "print(\"Features alertas creadas\")"
   ]
  },
  {
   "cell_type": "code",
   "execution_count": 85,
   "id": "1bac69df",
   "metadata": {},
   "outputs": [
    {
     "name": "stdout",
     "output_type": "stream",
     "text": [
      "Features perfil creadas\n"
     ]
    }
   ],
   "source": [
    "# =============================================================================\n",
    "# CREACIÓN DE FEATURES DE PERFIL SOCIODEMOGRÁFICO\n",
    "# =============================================================================\n",
    "def crear_features_perfil(df):\n",
    "   df_new = df.copy()\n",
    "   \n",
    "   # Segmento edad riesgo\n",
    "   df_new['edad_riesgo'] = pd.cut(df_new['edad'], bins=[0, 25, 35, 50, 100], labels=[1, 2, 3, 4]).astype(float)\n",
    "   \n",
    "   # Cobertura beneficios\n",
    "   df_new['cobertura_beneficios'] = df_new['cuota_monetaria'] + df_new['sub_vivenda'] + df_new['bono_lonchera']\n",
    "   \n",
    "   # Estrato riesgo\n",
    "   df_new['estrato_alto'] = (df_new['estrato'] >= 4).astype(int)\n",
    "   \n",
    "   return df_new\n",
    "\n",
    "train = crear_features_perfil(train)\n",
    "test = crear_features_perfil(test)\n",
    "\n",
    "print(\"Features perfil creadas\")\n",
    "\n",
    "# %%"
   ]
  },
  {
   "cell_type": "code",
   "execution_count": 86,
   "id": "2a4438eb",
   "metadata": {},
   "outputs": [
    {
     "name": "stdout",
     "output_type": "stream",
     "text": [
      "\n",
      "Features creadas: 15\n",
      "✓ utilizacion_cupo\n",
      "✓ disponibilidad_restante\n",
      "✓ ratio_avances\n",
      "✓ capacidad_pago\n",
      "✓ cumplimiento_minimo\n",
      "✓ tendencia_pagos\n",
      "✓ cliente_activo\n",
      "✓ variacion_saldo\n",
      "✓ frecuencia_uso\n",
      "✓ mora_inicial\n",
      "✓ tiene_mora\n",
      "✓ patron_reduccion\n",
      "✓ edad_riesgo\n",
      "✓ cobertura_beneficios\n",
      "✓ estrato_alto\n"
     ]
    }
   ],
   "source": [
    "# =============================================================================\n",
    "# VERIFICAR FEATURES CREADAS\n",
    "# =============================================================================\n",
    "nuevas_features = [\n",
    "   'utilizacion_cupo', 'disponibilidad_restante', 'ratio_avances',\n",
    "   'capacidad_pago', 'cumplimiento_minimo', 'tendencia_pagos',\n",
    "   'cliente_activo', 'variacion_saldo', 'frecuencia_uso',\n",
    "   'mora_inicial', 'tiene_mora', 'patron_reduccion',\n",
    "   'edad_riesgo', 'cobertura_beneficios', 'estrato_alto'\n",
    "]\n",
    "\n",
    "print(f\"\\nFeatures creadas: {len(nuevas_features)}\")\n",
    "for feature in nuevas_features:\n",
    "   if feature in train.columns:\n",
    "       print(f\"✓ {feature}\")\n",
    "\n"
   ]
  },
  {
   "cell_type": "code",
   "execution_count": 87,
   "id": "a46b3b80",
   "metadata": {},
   "outputs": [
    {
     "name": "stdout",
     "output_type": "stream",
     "text": [
      "Features beneficios Colsubsidio completadas\n"
     ]
    }
   ],
   "source": [
    "# =============================================================================\n",
    "# CONFIGURACIÓN INICIAL\n",
    "# =============================================================================\n",
    "def crear_features_beneficios_avanzadas(df):\n",
    "   df_new = df.copy()\n",
    "   \n",
    "   # Engagement con beneficios\n",
    "   df_new['tiene_beneficios'] = (df_new['cobertura_beneficios'] > 0).astype(int)\n",
    "   df_new['beneficios_completos'] = (df_new['cobertura_beneficios'] == 3).astype(int)\n",
    "   \n",
    "   # Penetración por tipo\n",
    "   df_new['solo_cuota_monetaria'] = ((df_new['cuota_monetaria'] == 1) & \n",
    "                                    (df_new['sub_vivenda'] == 0) & \n",
    "                                    (df_new['bono_lonchera'] == 0)).astype(int)\n",
    "   \n",
    "   # Perfil beneficiario\n",
    "   df_new['beneficiario_premium'] = ((df_new['cuota_monetaria'] == 1) & \n",
    "                                    (df_new['sub_vivenda'] == 1)).astype(int)\n",
    "   \n",
    "   return df_new\n",
    "\n",
    "train = crear_features_beneficios_avanzadas(train)\n",
    "test = crear_features_beneficios_avanzadas(test)\n",
    "\n",
    "print(\"Features beneficios Colsubsidio completadas\")\n",
    "\n",
    "# %%\n"
   ]
  },
  {
   "cell_type": "code",
   "execution_count": 88,
   "id": "c28cb061",
   "metadata": {},
   "outputs": [
    {
     "name": "stdout",
     "output_type": "stream",
     "text": [
      "=== VALIDACIÓN CALIDAD FEATURES ===\n",
      "✅ Sin valores problemáticos\n",
      "\n",
      "Correlaciones altas (>0.8):\n",
      "  ⚠️ utilizacion_cupo - ratio_avances: 0.813\n"
     ]
    }
   ],
   "source": [
    "# =============================================================================\n",
    "# VALIDACIÓN DE CALIDAD DE FEATURES\n",
    "# =============================================================================\n",
    "def validar_calidad_features(df, features_list):\n",
    "   print(\"=== VALIDACIÓN CALIDAD FEATURES ===\")\n",
    "   \n",
    "   # Verificar valores problemáticos\n",
    "   problemas = []\n",
    "   for feature in features_list:\n",
    "       if feature in df.columns:\n",
    "           infinitos = np.isinf(df[feature]).sum()\n",
    "           nulos = df[feature].isnull().sum()\n",
    "           \n",
    "           if infinitos > 0 or nulos > 0:\n",
    "               problemas.append(f\"{feature}: inf={infinitos}, null={nulos}\")\n",
    "   \n",
    "   if problemas:\n",
    "       print(\"⚠️ Problemas encontrados:\")\n",
    "       for p in problemas:\n",
    "           print(f\"  {p}\")\n",
    "   else:\n",
    "       print(\"✅ Sin valores problemáticos\")\n",
    "   \n",
    "   # Verificar correlaciones altas\n",
    "   numeric_features = [f for f in features_list if f in df.columns and df[f].dtype in ['int64', 'float64']]\n",
    "   corr_matrix = df[numeric_features].corr()\n",
    "   \n",
    "   print(f\"\\nCorrelaciones altas (>0.8):\")\n",
    "   alta_corr = []\n",
    "   for i in range(len(corr_matrix.columns)):\n",
    "       for j in range(i+1, len(corr_matrix.columns)):\n",
    "           corr_val = abs(corr_matrix.iloc[i, j])\n",
    "           if corr_val > 0.8:\n",
    "               alta_corr.append(f\"{corr_matrix.columns[i]} - {corr_matrix.columns[j]}: {corr_val:.3f}\")\n",
    "   \n",
    "   if alta_corr:\n",
    "       for corr in alta_corr:\n",
    "           print(f\"  ⚠️ {corr}\")\n",
    "   else:\n",
    "       print(\"  ✅ Sin correlaciones problemáticas\")\n",
    "\n",
    "# Todas las features creadas\n",
    "todas_features = nuevas_features + ['tiene_beneficios', 'beneficios_completos', 'solo_cuota_monetaria', 'beneficiario_premium']\n",
    "validar_calidad_features(train, todas_features)\n"
   ]
  },
  {
   "cell_type": "code",
   "execution_count": 89,
   "id": "f228f94c",
   "metadata": {},
   "outputs": [
    {
     "name": "stdout",
     "output_type": "stream",
     "text": [
      "\n",
      "=== ESTADÍSTICAS FEATURES CLAVE ===\n",
      "\n",
      "utilizacion_cupo:\n",
      "  Min: 0.000\n",
      "  Max: 4.151\n",
      "  Media: 0.359\n",
      "  Ceros: 24047\n",
      "\n",
      "capacidad_pago:\n",
      "  Min: 0.000\n",
      "  Max: 281700.000\n",
      "  Media: 380.830\n",
      "  Ceros: 44969\n",
      "\n",
      "cliente_activo:\n",
      "  Min: 0.000\n",
      "  Max: 1.000\n",
      "  Media: 0.115\n",
      "  Ceros: 44267\n",
      "\n",
      "cobertura_beneficios:\n",
      "  Min: 0.000\n",
      "  Max: 3.000\n",
      "  Media: 1.384\n",
      "  Ceros: 12441\n"
     ]
    }
   ],
   "source": [
    "# =============================================================================\n",
    "# ESTADÍSTICAS FEATURES CLAVE\n",
    "# =============================================================================\n",
    "print(\"\\n=== ESTADÍSTICAS FEATURES CLAVE ===\")\n",
    "\n",
    "features_clave = ['utilizacion_cupo', 'capacidad_pago', 'cliente_activo', 'cobertura_beneficios']\n",
    "\n",
    "for feature in features_clave:\n",
    "   if feature in train.columns:\n",
    "       print(f\"\\n{feature}:\")\n",
    "       print(f\"  Min: {train[feature].min():.3f}\")\n",
    "       print(f\"  Max: {train[feature].max():.3f}\")\n",
    "       print(f\"  Media: {train[feature].mean():.3f}\")\n",
    "       print(f\"  Ceros: {(train[feature] == 0).sum()}\")\n",
    "\n",
    "# %%\n"
   ]
  },
  {
   "cell_type": "code",
   "execution_count": 90,
   "id": "0552d36e",
   "metadata": {},
   "outputs": [
    {
     "name": "stdout",
     "output_type": "stream",
     "text": [
      "\n",
      "=== VALIDACIÓN REGLAS DE NEGOCIO ===\n"
     ]
    }
   ],
   "source": [
    "# =============================================================================\n",
    "# VALIDACIÓN DE REGLAS DE NEGOCIO\n",
    "# =============================================================================\n",
    "def validar_reglas_negocio(df):\n",
    "   print(\"\\n=== VALIDACIÓN REGLAS DE NEGOCIO ===\")\n",
    "   \n",
    "# Validación de reglas de negocio\n",
    "def validate_business_rules(df):\n",
    "   \"\"\"Valida reglas de negocio específicas del sector crediticio\"\"\"\n",
    "   \n",
    "   print(\"Validación de reglas de negocio:\")\n",
    "   \n",
    "   # Regla 1: Utilización no puede ser negativa\n",
    "   util_negativa = (df['utilizacion_cupo'] < 0).sum()\n",
    "   status_util = \"OK\" if util_negativa == 0 else \"REVISAR\"\n",
    "   print(f\"  Utilización negativa: {util_negativa} casos ({status_util})\")\n",
    "   \n",
    "   # Regla 2: Capacidad pago muy alta es sospechosa\n",
    "   pago_alto = (df['capacidad_pago'] > 2).sum()\n",
    "   status_pago = \"OK\" if pago_alto < 100 else \"REVISAR\"\n",
    "   print(f\"  Capacidad pago >200%: {pago_alto} casos ({status_pago})\")\n",
    "   \n",
    "   # Regla 3: Beneficios en rango válido\n",
    "   benef_invalido = (df['cobertura_beneficios'] > 3).sum()\n",
    "   status_benef = \"OK\" if benef_invalido == 0 else \"REVISAR\"\n",
    "   print(f\"  Beneficios inválidos: {benef_invalido} casos ({status_benef})\")\n",
    "   \n",
    "   return {\n",
    "       'utilizacion_negativa': util_negativa,\n",
    "       'capacidad_pago_alta': pago_alto,\n",
    "       'beneficios_invalidos': benef_invalido\n",
    "   }\n",
    "validar_reglas_negocio(train)\n",
    "\n",
    "# %%"
   ]
  },
  {
   "cell_type": "code",
   "execution_count": 91,
   "id": "75dced6b",
   "metadata": {},
   "outputs": [
    {
     "name": "stdout",
     "output_type": "stream",
     "text": [
      "\n",
      "=== RESUMEN FINAL ===\n",
      "Total features creadas: 19\n",
      "Variables utilización/comportamiento: 6\n",
      "Índices stress/actividad: 6\n",
      "Variables beneficios Colsubsidio: 7\n",
      "Validación calidad completada\n",
      "Train final: (50001, 52)\n",
      "Test final: (5001, 51)\n",
      "Datos listos para modelado\n"
     ]
    }
   ],
   "source": [
    "\n",
    "# =============================================================================\n",
    "#   GUARDAR DATASETS FINALES\n",
    "# =============================================================================\n",
    "train.to_csv('data/processed/train_with_features.csv', index=False)\n",
    "test.to_csv('data/processed/test_with_features.csv', index=False)\n",
    "\n",
    "print(f\"\\n=== RESUMEN FINAL ===\")\n",
    "print(f\"Total features creadas: {len(todas_features)}\")\n",
    "print(f\"Variables utilización/comportamiento: 6\")\n",
    "print(f\"Índices stress/actividad: 6\") \n",
    "print(f\"Variables beneficios Colsubsidio: 7\")\n",
    "print(f\"Validación calidad completada\")\n",
    "print(f\"Train final: {train.shape}\")\n",
    "print(f\"Test final: {test.shape}\")\n",
    "print(\"Datos listos para modelado\")"
   ]
  },
  {
   "cell_type": "code",
   "execution_count": 92,
   "id": "43ee0c38",
   "metadata": {},
   "outputs": [
    {
     "name": "stdout",
     "output_type": "stream",
     "text": [
      "✅ Correcciones aplicadas\n"
     ]
    }
   ],
   "source": [
    "# =============================================================================\n",
    "#   CORRECCIONES FINALES\n",
    "# =============================================================================\n",
    "train = train.drop(['ratio_avances'], axis=1)\n",
    "test = test.drop(['ratio_avances'], axis=1)\n",
    "\n",
    "# Corregir capacidad_pago extrema\n",
    "train['capacidad_pago'] = np.where(train['capacidad_pago'] > 5, 5, train['capacidad_pago'])\n",
    "test['capacidad_pago'] = np.where(test['capacidad_pago'] > 5, 5, test['capacidad_pago'])\n",
    "\n",
    "print(\"✅ Correcciones aplicadas\")\n"
   ]
  },
  {
   "cell_type": "code",
   "execution_count": 93,
   "id": "7f265bb3",
   "metadata": {},
   "outputs": [
    {
     "name": "stdout",
     "output_type": "stream",
     "text": [
      "\n",
      "Datos con features guardados\n",
      "Train: (50001, 51)\n",
      "Test: (5001, 50)\n",
      "Listos para modelado\n"
     ]
    }
   ],
   "source": [
    "# =============================================================================\n",
    "#   GUARDAR DATASETS FINALES    \n",
    "# =============================================================================\n",
    "train.to_csv('data/processed/train_with_features.csv', index=False)\n",
    "test.to_csv('data/processed/test_with_features.csv', index=False)\n",
    "\n",
    "print(f\"\\nDatos con features guardados\")\n",
    "print(f\"Train: {train.shape}\")\n",
    "print(f\"Test: {test.shape}\")\n",
    "print(\"Listos para modelado\")"
   ]
  }
 ],
 "metadata": {
  "kernelspec": {
   "display_name": "base",
   "language": "python",
   "name": "python3"
  },
  "language_info": {
   "codemirror_mode": {
    "name": "ipython",
    "version": 3
   },
   "file_extension": ".py",
   "mimetype": "text/x-python",
   "name": "python",
   "nbconvert_exporter": "python",
   "pygments_lexer": "ipython3",
   "version": "3.11.4"
  }
 },
 "nbformat": 4,
 "nbformat_minor": 5
}
